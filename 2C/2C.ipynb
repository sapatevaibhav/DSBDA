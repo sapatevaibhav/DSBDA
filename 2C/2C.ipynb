{
 "cells": [
  {
   "cell_type": "markdown",
   "id": "96baac2d-e6e8-4cb9-a561-6864fd10b5a7",
   "metadata": {},
   "source": [
    "#### Name: Sapate Vaibhav Ramdas\n",
    "#### Roll No: 307B055\n",
    "#### Division: 2\n",
    "#### Batch: C\n",
    "---\n",
    "### <center> Assignment 2(C) </center>"
   ]
  },
  {
   "cell_type": "code",
   "execution_count": 1,
   "id": "ca3e190a",
   "metadata": {},
   "outputs": [],
   "source": [
    "import pandas as pd\n",
    "import matplotlib.pyplot as plt"
   ]
  },
  {
   "cell_type": "code",
   "execution_count": 2,
   "id": "047efc51",
   "metadata": {},
   "outputs": [],
   "source": [
    "# Load the dataset\n",
    "df = pd.read_csv('forestfires.csv')\n",
    "\n",
    "# Reset the index\n",
    "df.reset_index(drop=True, inplace=True)"
   ]
  },
  {
   "cell_type": "code",
   "execution_count": 3,
   "id": "4188afbd",
   "metadata": {},
   "outputs": [],
   "source": [
    "# Define the map function\n",
    "def map_function(row):\n",
    "    # Calculate the product of 'X' and 'wind' for each row\n",
    "    result = row['X'] * row['wind']\n",
    "    return result"
   ]
  },
  {
   "cell_type": "code",
   "execution_count": 4,
   "id": "e8864a37",
   "metadata": {},
   "outputs": [
    {
     "name": "stdout",
     "output_type": "stream",
     "text": [
      "     X  Y month  day  FFMC    DMC     DC   ISI  temp  RH  wind  rain   area  \\\n",
      "0    7  5   mar  fri  86.2   26.2   94.3   5.1   8.2  51   6.7   0.0   0.00   \n",
      "1    7  4   oct  tue  90.6   35.4  669.1   6.7  18.0  33   0.9   0.0   0.00   \n",
      "2    7  4   oct  sat  90.6   43.7  686.9   6.7  14.6  33   1.3   0.0   0.00   \n",
      "3    8  6   mar  fri  91.7   33.3   77.5   9.0   8.3  97   4.0   0.2   0.00   \n",
      "4    8  6   mar  sun  89.3   51.3  102.2   9.6  11.4  99   1.8   0.0   0.00   \n",
      "..  .. ..   ...  ...   ...    ...    ...   ...   ...  ..   ...   ...    ...   \n",
      "512  4  3   aug  sun  81.6   56.7  665.6   1.9  27.8  32   2.7   0.0   6.44   \n",
      "513  2  4   aug  sun  81.6   56.7  665.6   1.9  21.9  71   5.8   0.0  54.29   \n",
      "514  7  4   aug  sun  81.6   56.7  665.6   1.9  21.2  70   6.7   0.0  11.16   \n",
      "515  1  4   aug  sat  94.4  146.0  614.7  11.3  25.6  42   4.0   0.0   0.00   \n",
      "516  6  3   nov  tue  79.5    3.0  106.7   1.1  11.8  31   4.5   0.0   0.00   \n",
      "\n",
      "     map_result  \n",
      "0          46.9  \n",
      "1           6.3  \n",
      "2           9.1  \n",
      "3          32.0  \n",
      "4          14.4  \n",
      "..          ...  \n",
      "512        10.8  \n",
      "513        11.6  \n",
      "514        46.9  \n",
      "515         4.0  \n",
      "516        27.0  \n",
      "\n",
      "[517 rows x 14 columns]\n"
     ]
    }
   ],
   "source": [
    "# Apply the map function to each row in parallel using swifter\n",
    "df['map_result'] = df.swifter.apply(map_function, axis=1)\n",
    "\n",
    "# Display the DataFrame\n",
    "print(df)"
   ]
  },
  {
   "cell_type": "code",
   "execution_count": 5,
   "id": "ef0aaec3",
   "metadata": {},
   "outputs": [
    {
     "data": {
      "text/plain": [
       "9738.699999999999"
      ]
     },
     "execution_count": 5,
     "metadata": {},
     "output_type": "execute_result"
    }
   ],
   "source": [
    "# Perform the reduce operation\n",
    "reduce_result = df['map_result'].sum()\n",
    "# Print the reduce result\n",
    "reduce_result"
   ]
  },
  {
   "cell_type": "code",
   "execution_count": 6,
   "id": "1dc4a6f4",
   "metadata": {},
   "outputs": [
    {
     "name": "stdout",
     "output_type": "stream",
     "text": [
      "                X           Y        FFMC         DMC          DC         ISI        temp          RH        wind        rain         area  map_result\n",
      "count  517.000000  517.000000  517.000000  517.000000  517.000000  517.000000  517.000000  517.000000  517.000000  517.000000   517.000000  517.000000\n",
      "mean     4.669246    4.299807   90.644681  110.872340  547.940039    9.021663   18.889168   44.288201    4.017602    0.021663    12.847292   18.836944\n",
      "std      2.313778    1.229900    5.520111   64.046482  248.066192    4.559477    5.806625   16.317469    1.791653    0.295959    63.655818   12.885465\n",
      "min      1.000000    2.000000   18.700000    1.100000    7.900000    0.000000    2.200000   15.000000    0.400000    0.000000     0.000000    0.900000\n",
      "25%      3.000000    4.000000   90.200000   68.600000  437.700000    6.500000   15.500000   33.000000    2.700000    0.000000     0.000000    8.800000\n",
      "50%      4.000000    4.000000   91.600000  108.300000  664.200000    8.400000   19.300000   42.000000    4.000000    0.000000     0.520000   16.200000\n",
      "75%      7.000000    5.000000   92.900000  142.400000  713.900000   10.800000   22.800000   53.000000    4.900000    0.000000     6.570000   27.000000\n",
      "max      9.000000    9.000000   96.200000  291.300000  860.600000   56.100000   33.300000  100.000000    9.400000    6.400000  1090.840000   71.200000\n"
     ]
    }
   ],
   "source": [
    "# Calculate descriptive statistics of numeric columns\n",
    "descriptive_stats = df.describe()\n",
    "\n",
    "# Convert descriptive statistics DataFrame to string representation\n",
    "descriptive_stats_str = descriptive_stats.to_string()\n",
    "\n",
    "# Print the descriptive statistics\n",
    "print(descriptive_stats_str)\n"
   ]
  },
  {
   "cell_type": "code",
   "execution_count": 7,
   "id": "472fe22e",
   "metadata": {},
   "outputs": [
    {
     "name": "stdout",
     "output_type": "stream",
     "text": [
      "          area                    \n",
      "           sum       mean      max\n",
      "month                             \n",
      "apr      80.02   8.891111    61.13\n",
      "aug    2297.99  12.489076   746.28\n",
      "dec     119.97  13.330000    24.77\n",
      "feb     125.50   6.275000    51.78\n",
      "jan       0.00   0.000000     0.00\n",
      "jul     459.83  14.369687   278.53\n",
      "jun      99.30   5.841176    70.32\n",
      "mar     235.26   4.356667    36.85\n",
      "may      38.48  19.240000    38.48\n",
      "nov       0.00   0.000000     0.00\n",
      "oct      99.57   6.638000    49.37\n",
      "sep    3086.13  17.942616  1090.84\n"
     ]
    }
   ],
   "source": [
    "# Group the data by a specific column and calculate aggregate statistics\n",
    "grouped_stats = df.groupby('month').agg({'area': ['sum', 'mean', 'max']})\n",
    "\n",
    "# Convert grouped statistics DataFrame to string representation\n",
    "grouped_stats_str = grouped_stats.to_string()\n",
    "\n",
    "# Print the grouped statistics\n",
    "print(grouped_stats_str)\n"
   ]
  },
  {
   "cell_type": "code",
   "execution_count": 8,
   "id": "bd492fc9",
   "metadata": {},
   "outputs": [
    {
     "data": {
      "image/png": "[encoded data removed]",
      "text/plain": [
       "<Figure size 640x480 with 1 Axes>"
      ]
     },
     "metadata": {},
     "output_type": "display_data"
    }
   ],
   "source": [
    "# Count the number of fires per month\n",
    "fires_per_month = df['month'].value_counts()\n",
    "\n",
    "# Create a bar chart\n",
    "plt.bar(fires_per_month.index, fires_per_month.values)\n",
    "\n",
    "# Set labels and title\n",
    "plt.xlabel('Month')\n",
    "plt.ylabel('Number of Fires')\n",
    "plt.title('Number of Fires per Month')\n",
    "\n",
    "# Display the plot\n",
    "plt.show()\n"
   ]
  }
 ],
 "metadata": {
  "kernelspec": {
   "display_name": "Python 3 (ipykernel)",
   "language": "python",
   "name": "python3"
  },
  "language_info": {
   "codemirror_mode": {
    "name": "ipython",
    "version": 3
   },
   "file_extension": ".py",
   "mimetype": "text/x-python",
   "name": "python",
   "nbconvert_exporter": "python",
   "pygments_lexer": "ipython3",
   "version": "3.10.12"
  }
 },
 "nbformat": 4,
 "nbformat_minor": 5
}
