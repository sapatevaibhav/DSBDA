{
 "cells": [
  {
   "cell_type": "code",
   "execution_count": 1,
   "id": "69df5dc4",
   "metadata": {},
   "outputs": [],
   "source": [
    "import pandas as pd"
   ]
  },
  {
   "cell_type": "code",
   "execution_count": 2,
   "id": "20ddc23c",
   "metadata": {},
   "outputs": [],
   "source": [
    "# a. Creating, Dropping, and Altering Database tables\n",
    "flight_data = pd.DataFrame({\n",
    "    \"flight_id\": [1, 2, 3],\n",
    "    \"departure_city\": [\"City A\", \"City B\", \"City C\"],\n",
    "    \"arrival_city\": [\"City X\", \"City Y\", \"City Z\"],\n",
    "    \"departure_time\": [\"2023-01-01 09:00:00\", \"2023-01-02 10:00:00\", \"2023-01-03 11:00:00\"],\n",
    "    \"arrival_time\": [\"2023-01-01 12:00:00\", \"2023-01-02 13:00:00\", \"2023-01-03 14:00:00\"],\n",
    "    \"delay_minutes\": [10, 15, 5]\n",
    "})"
   ]
  },
  {
   "cell_type": "code",
   "execution_count": 3,
   "id": "3e19e59b",
   "metadata": {},
   "outputs": [],
   "source": [
    "# b. Creating a table (DataFrame)\n",
    "flight_data_table = flight_data.copy()"
   ]
  },
  {
   "cell_type": "code",
   "execution_count": 4,
   "id": "c3e7242f",
   "metadata": {},
   "outputs": [],
   "source": [
    "# c. Load table with data, insert new values and field in the table, and Join tables\n",
    "new_flight_data = pd.DataFrame({\n",
    "    \"flight_id\": [4, 5],\n",
    "    \"departure_city\": [\"City D\", \"City E\"],\n",
    "    \"arrival_city\": [\"City W\", \"City X\"],\n",
    "    \"departure_time\": [\"2023-01-04 12:00:00\", \"2023-01-05 15:00:00\"],\n",
    "    \"arrival_time\": [\"2023-01-04 15:00:00\", \"2023-01-05 18:00:00\"],\n",
    "    \"delay_minutes\": [8, 12]\n",
    "})"
   ]
  },
  {
   "cell_type": "code",
   "execution_count": 5,
   "id": "ba639833",
   "metadata": {},
   "outputs": [],
   "source": [
    "flight_data_table = pd.concat([flight_data_table, new_flight_data], ignore_index=True)\n",
    "\n",
    "flight_data_table.loc[2, 'arrival_city'] = 'City Z Updated'\n",
    "\n",
    "joined_data = flight_data_table.merge(flight_data_table, on='flight_id')"
   ]
  },
  {
   "cell_type": "code",
   "execution_count": 6,
   "id": "852c8e42",
   "metadata": {},
   "outputs": [],
   "source": [
    "# d. Create index on Flight Information Table (DataFrame)\n",
    "flight_data_table.set_index('flight_id', inplace=True)"
   ]
  },
  {
   "cell_type": "code",
   "execution_count": 7,
   "id": "e88ac608",
   "metadata": {},
   "outputs": [],
   "source": [
    "# e. Find the average departure delay per day in 2008\n",
    "flight_data_table['departure_time'] = pd.to_datetime(flight_data_table['departure_time'])\n",
    "flights_2008 = flight_data_table[flight_data_table['departure_time'].dt.year == 2008]\n",
    "avg_delay_per_day = flights_2008.groupby(flights_2008['departure_time'].dt.date)['delay_minutes'].mean()"
   ]
  },
  {
   "cell_type": "code",
   "execution_count": 8,
   "id": "28175946",
   "metadata": {},
   "outputs": [
    {
     "name": "stdout",
     "output_type": "stream",
     "text": [
      "Joined Table:\n",
      "   flight_id departure_city_x  arrival_city_x     departure_time_x  \\\n",
      "0          1           City A          City X  2023-01-01 09:00:00   \n",
      "1          2           City B          City Y  2023-01-02 10:00:00   \n",
      "2          3           City C  City Z Updated  2023-01-03 11:00:00   \n",
      "3          4           City D          City W  2023-01-04 12:00:00   \n",
      "4          5           City E          City X  2023-01-05 15:00:00   \n",
      "\n",
      "        arrival_time_x  delay_minutes_x departure_city_y  arrival_city_y  \\\n",
      "0  2023-01-01 12:00:00               10           City A          City X   \n",
      "1  2023-01-02 13:00:00               15           City B          City Y   \n",
      "2  2023-01-03 14:00:00                5           City C  City Z Updated   \n",
      "3  2023-01-04 15:00:00                8           City D          City W   \n",
      "4  2023-01-05 18:00:00               12           City E          City X   \n",
      "\n",
      "      departure_time_y       arrival_time_y  delay_minutes_y  \n",
      "0  2023-01-01 09:00:00  2023-01-01 12:00:00               10  \n",
      "1  2023-01-02 10:00:00  2023-01-02 13:00:00               15  \n",
      "2  2023-01-03 11:00:00  2023-01-03 14:00:00                5  \n",
      "3  2023-01-04 12:00:00  2023-01-04 15:00:00                8  \n",
      "4  2023-01-05 15:00:00  2023-01-05 18:00:00               12  \n"
     ]
    }
   ],
   "source": [
    "print(\"Joined Table:\")\n",
    "print(joined_data)"
   ]
  },
  {
   "cell_type": "code",
   "execution_count": 9,
   "id": "fb8fc3d3",
   "metadata": {},
   "outputs": [
    {
     "name": "stdout",
     "output_type": "stream",
     "text": [
      "\n",
      "Flight Information Table with Index:\n",
      "          departure_city    arrival_city      departure_time  \\\n",
      "flight_id                                                      \n",
      "1                 City A          City X 2023-01-01 09:00:00   \n",
      "2                 City B          City Y 2023-01-02 10:00:00   \n",
      "3                 City C  City Z Updated 2023-01-03 11:00:00   \n",
      "4                 City D          City W 2023-01-04 12:00:00   \n",
      "5                 City E          City X 2023-01-05 15:00:00   \n",
      "\n",
      "                  arrival_time  delay_minutes  \n",
      "flight_id                                      \n",
      "1          2023-01-01 12:00:00             10  \n",
      "2          2023-01-02 13:00:00             15  \n",
      "3          2023-01-03 14:00:00              5  \n",
      "4          2023-01-04 15:00:00              8  \n",
      "5          2023-01-05 18:00:00             12  \n"
     ]
    }
   ],
   "source": [
    "print(\"\\nFlight Information Table with Index:\")\n",
    "print(flight_data_table)"
   ]
  },
  {
   "cell_type": "code",
   "execution_count": 10,
   "id": "08066375",
   "metadata": {},
   "outputs": [
    {
     "name": "stdout",
     "output_type": "stream",
     "text": [
      "\n",
      "Average Departure Delay per Day in 2008:\n",
      "Series([], Name: delay_minutes, dtype: float64)\n"
     ]
    }
   ],
   "source": [
    "print(\"\\nAverage Departure Delay per Day in 2008:\")\n",
    "print(avg_delay_per_day)"
   ]
  }
 ],
 "metadata": {
  "kernelspec": {
   "display_name": "Python 3 (ipykernel)",
   "language": "python",
   "name": "python3"
  },
  "language_info": {
   "codemirror_mode": {
    "name": "ipython",
    "version": 3
   },
   "file_extension": ".py",
   "mimetype": "text/x-python",
   "name": "python",
   "nbconvert_exporter": "python",
   "pygments_lexer": "ipython3",
   "version": "3.10.12"
  }
 },
 "nbformat": 4,
 "nbformat_minor": 5
}
