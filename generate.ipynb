{
 "cells": [
  {
   "cell_type": "markdown",
   "metadata": {},
   "source": [
    "# Use this file for the creation of csv files which is used in some of the other practicals if there isn't any one created already or leave as it is."
   ]
  },
  {
   "cell_type": "markdown",
   "metadata": {},
   "source": [
    "### This code creates the csv file required for practical no 3"
   ]
  },
  {
   "cell_type": "code",
   "execution_count": 2,
   "metadata": {},
   "outputs": [],
   "source": [
    "import pandas as pd\n",
    "import numpy as np\n",
    "\n",
    "# Define the number of rows\n",
    "num_rows = 600\n",
    "\n",
    "# Generate random data for the columns\n",
    "data = {\n",
    "    'Marital_status': np.random.choice(['Single', 'Married'], size=num_rows),\n",
    "    'Dependents': np.random.randint(0, 5, size=num_rows),\n",
    "    'Is_graduate': np.random.choice([True, False], size=num_rows),\n",
    "    'Income': np.random.randint(20000, 1000000, size=num_rows),\n",
    "    'Loan_amount': np.random.randint(5000, 50000, size=num_rows),\n",
    "    'Term_months': np.random.randint(12, 60, size=num_rows),\n",
    "    'Credit_score': np.random.randint(300, 850, size=num_rows),\n",
    "    'approval_status': np.random.choice(['Approved', 'Rejected'], size=num_rows),\n",
    "    'Age': np.random.randint(20, 60, size=num_rows),\n",
    "    'Sex': np.random.choice(['Male', 'Female'], size=num_rows)\n",
    "}\n",
    "\n",
    "# Create DataFrame\n",
    "df = pd.DataFrame(data)\n",
    "\n",
    "# Save DataFrame to CSV file\n",
    "df.to_csv('data.csv', index=False)\n"
   ]
  },
  {
   "cell_type": "markdown",
   "metadata": {},
   "source": [
    "### This code creates the file required for the 4th practical."
   ]
  },
  {
   "cell_type": "code",
   "execution_count": 3,
   "metadata": {},
   "outputs": [
    {
     "name": "stdout",
     "output_type": "stream",
     "text": [
      "   age           job   marital default  education  balance housing loan  \\\n",
      "0   25  entrepreneur  divorced      no   tertiary    -4853     yes   no   \n",
      "1   50  entrepreneur  divorced     yes    primary     1391     yes  yes   \n",
      "2   21   blue-collar    single     yes   tertiary    -3551     yes   no   \n",
      "3   60     housemaid  divorced     yes    primary     3342     yes  yes   \n",
      "4   41    management   married     yes  secondary    -1737      no   no   \n",
      "\n",
      "     contact  day month  duration  campaign  pdays  previous poutcome  y  \n",
      "0    unknown   28   mar      1482        14    406        49  failure  0  \n",
      "1  telephone   30   sep      1487        16    930         2  success  1  \n",
      "2    unknown   21   feb      1278        19    421        35  success  1  \n",
      "3    unknown   15   jan       802        23    523        25  unknown  0  \n",
      "4    unknown   25   oct      1265         1    785         8  success  1  \n"
     ]
    }
   ],
   "source": [
    "import pandas as pd\n",
    "import numpy as np\n",
    "\n",
    "# Define the number of rows\n",
    "num_rows = 400\n",
    "\n",
    "# Generate random data for the columns\n",
    "data = {\n",
    "    'ID': range(1, num_rows + 1),\n",
    "    'crim': np.random.uniform(0.0000, 10.00000, size=num_rows),\n",
    "    'zn': np.random.uniform(0.00, 100.00, size=num_rows),\n",
    "    'indus': np.random.uniform(0.00, 20.00, size=num_rows),\n",
    "    'chas': np.random.randint(0.00, 2.00, size=num_rows),\n",
    "    'nox': np.random.uniform(0.00, 1.00, size=num_rows),\n",
    "    'rm': np.random.uniform(3.00, 9.00, size=num_rows),\n",
    "    'age': np.random.uniform(0.00, 100.00, size=num_rows),\n",
    "    'dis': np.random.uniform(0.00, 10.00, size=num_rows),\n",
    "    'rad': np.random.randint(1.00, 10.00, size=num_rows),\n",
    "    'tax': np.random.randint(100.000, 1000.000, size=num_rows),\n",
    "    'ptratio': np.random.uniform(10.000, 25.000, size=num_rows),\n",
    "    'black': np.random.uniform(0.000, 100.000, size=num_rows),\n",
    "    'lstat': np.random.uniform(0.0000, 30.0000, size=num_rows),\n",
    "    'medv': np.random.randint(0.000, 50.0000, size=num_rows)  # Adding 'medv' column\n",
    "}\n",
    "\n",
    "# Create DataFrame\n",
    "df = pd.DataFrame(data)\n",
    "\n",
    "# Save DataFrame to CSV file\n",
    "df.to_csv('boston_train.csv', index=False)\n"
   ]
  },
  {
   "cell_type": "markdown",
   "metadata": {},
   "source": [
    "### This code creates the file required for the 5th practical,"
   ]
  },
  {
   "cell_type": "code",
   "execution_count": 1,
   "metadata": {},
   "outputs": [],
   "source": [
    "import pandas as pd\n",
    "import numpy as np\n",
    "\n",
    "size = 500\n",
    "\n",
    "# Creating a sample DataFrame\n",
    "data = {\n",
    "    'age': np.random.randint(20, 70, size),\n",
    "    'job': np.random.choice(['management', 'blue-collar', 'technician', 'admin.', 'services', 'retired', 'self-employed', 'entrepreneur', 'unemployed', 'housemaid', 'student'], size),\n",
    "    'marital': np.random.choice(['married', 'single', 'divorced'], size),\n",
    "    'default': np.random.choice(['yes', 'no'], size),\n",
    "    'education': np.random.choice(['primary', 'secondary', 'tertiary'], size),\n",
    "    'balance': np.random.randint(-5000, 5000, size),\n",
    "    'housing': np.random.choice(['yes', 'no'], size),\n",
    "    'loan': np.random.choice(['yes', 'no'], size),\n",
    "    'contact': np.random.choice(['telephone', 'cellular', 'unknown'], size),\n",
    "    'day': np.random.randint(1, 31, size),\n",
    "    'month': np.random.choice(['jan', 'feb', 'mar', 'apr', 'may', 'jun', 'jul', 'aug', 'sep', 'oct', 'nov', 'dec'], size),\n",
    "    'duration': np.random.randint(0, 2000, size),\n",
    "    'campaign': np.random.randint(1, 50, size),\n",
    "    'pdays': np.random.randint(-1, 1000, size),\n",
    "    'previous': np.random.randint(0, 50, size),\n",
    "    'poutcome': np.random.choice(['success', 'failure', 'unknown', 'other'], size),\n",
    "    'y': np.random.choice([0, 1], size)\n",
    "}\n",
    "\n",
    "df = pd.DataFrame(data)\n",
    "\n",
    "# Saving the DataFrame to a CSV file\n",
    "df.to_csv('pr5.csv', index=False)\n"
   ]
  },
  {
   "cell_type": "code",
   "execution_count": null,
   "metadata": {},
   "outputs": [],
   "source": []
  }
 ],
 "metadata": {
  "kernelspec": {
   "display_name": "Python 3",
   "language": "python",
   "name": "python3"
  },
  "language_info": {
   "codemirror_mode": {
    "name": "ipython",
    "version": 3
   },
   "file_extension": ".py",
   "mimetype": "text/x-python",
   "name": "python",
   "nbconvert_exporter": "python",
   "pygments_lexer": "ipython3",
   "version": "3.10.12"
  }
 },
 "nbformat": 4,
 "nbformat_minor": 2
}
